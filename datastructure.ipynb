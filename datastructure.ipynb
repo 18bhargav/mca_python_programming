{
 "cells": [
  {
   "cell_type": "code",
   "execution_count": 2,
   "id": "ba1b23d3",
   "metadata": {},
   "outputs": [
    {
     "data": {
      "text/plain": [
       "[11, 12, 13]"
      ]
     },
     "execution_count": 2,
     "metadata": {},
     "output_type": "execute_result"
    }
   ],
   "source": [
    "x=[11,12,13,15,15,19]\n",
    "x[0:3]\n",
    "\n"
   ]
  },
  {
   "cell_type": "code",
   "execution_count": 3,
   "id": "50078097",
   "metadata": {},
   "outputs": [
    {
     "data": {
      "text/plain": [
       "[13, 15, 15, 19]"
      ]
     },
     "execution_count": 3,
     "metadata": {},
     "output_type": "execute_result"
    }
   ],
   "source": [
    "x=[11,12,13,15,15,19]\n",
    "x[2:len(x)]"
   ]
  },
  {
   "cell_type": "code",
   "execution_count": 6,
   "id": "aa83dd08",
   "metadata": {},
   "outputs": [
    {
     "data": {
      "text/plain": [
       "['C', 'A']"
      ]
     },
     "execution_count": 6,
     "metadata": {},
     "output_type": "execute_result"
    }
   ],
   "source": [
    "x=['E','D','U','C','A','T','I','O','N',]\n",
    "x[3:5]"
   ]
  },
  {
   "cell_type": "markdown",
   "id": "3f78b841",
   "metadata": {},
   "source": [
    "#slicing fasts\n",
    "-> if starting from 0 index , you can skip it"
   ]
  },
  {
   "cell_type": "code",
   "execution_count": 10,
   "id": "2a1405c7",
   "metadata": {},
   "outputs": [
    {
     "name": "stdout",
     "output_type": "stream",
     "text": [
      "william\n",
      "shakespeare\n"
     ]
    }
   ],
   "source": [
    "name='william shakespeare'\n",
    "fname = name[0:7]\n",
    "lname = name[8:]\n",
    "print(fname)\n",
    "print(lname)\n"
   ]
  },
  {
   "cell_type": "code",
   "execution_count": 14,
   "id": "3e559176",
   "metadata": {},
   "outputs": [
    {
     "data": {
      "text/plain": [
       "'hra'"
      ]
     },
     "execution_count": 14,
     "metadata": {},
     "output_type": "execute_result"
    }
   ],
   "source": [
    "name='bhargav'\n",
    "name[1 : : 2]"
   ]
  },
  {
   "cell_type": "code",
   "execution_count": 6,
   "id": "2ab3125f",
   "metadata": {},
   "outputs": [
    {
     "name": "stdout",
     "output_type": "stream",
     "text": [
      "vijay deenanath chavhan\n"
     ]
    }
   ],
   "source": [
    "name = \"vijay deenanath chavhan\"\n",
    "fname = name [ : 5]\n",
    "mname = name [6:15]\n",
    "lname = name [-7:]\n",
    "print (fname,mname,lname)\n"
   ]
  },
  {
   "cell_type": "code",
   "execution_count": 7,
   "id": "7cd5a242",
   "metadata": {},
   "outputs": [
    {
     "name": "stdout",
     "output_type": "stream",
     "text": [
      "13\n",
      "11\n",
      "9\n",
      "7\n",
      "6\n",
      "5\n",
      "4\n",
      "3\n",
      "2\n",
      "1\n"
     ]
    }
   ],
   "source": [
    "x=[1,2,3,4,5,6,7,9,11,13]\n",
    "for item in x [::-1]:\n",
    "    print(item)"
   ]
  },
  {
   "cell_type": "code",
   "execution_count": 9,
   "id": "7375346e",
   "metadata": {},
   "outputs": [
    {
     "data": {
      "text/plain": [
       "[1, 2, 3]"
      ]
     },
     "execution_count": 9,
     "metadata": {},
     "output_type": "execute_result"
    }
   ],
   "source": [
    "a=[1,2,3]      \n",
    "a[:]         #Get all elements"
   ]
  },
  {
   "cell_type": "code",
   "execution_count": 10,
   "id": "e657370d",
   "metadata": {},
   "outputs": [
    {
     "name": "stdout",
     "output_type": "stream",
     "text": [
      "[1, 2, 3, 4, 5] [3, 4, 5, 1, 2]\n"
     ]
    }
   ],
   "source": [
    "x=[1,2,3,4,5]\n",
    "ans=x[2:]+x[:2]\n",
    "print(x,ans)"
   ]
  },
  {
   "cell_type": "code",
   "execution_count": 11,
   "id": "de03f72c",
   "metadata": {},
   "outputs": [
    {
     "name": "stdout",
     "output_type": "stream",
     "text": [
      "[1, 3, 4, 5] [2, 6, 8, 10]\n"
     ]
    }
   ],
   "source": [
    "# comprehension\n",
    "\n",
    "\n",
    "\n",
    "x=[1,3,4,5]\n",
    "x2=[]\n",
    "for i in x:\n",
    "    s=i*2\n",
    "    x2.append(s)\n",
    "print(x,x2)   "
   ]
  },
  {
   "cell_type": "code",
   "execution_count": 12,
   "id": "67caedb9",
   "metadata": {},
   "outputs": [
    {
     "name": "stdout",
     "output_type": "stream",
     "text": [
      "[4, 8, 12, 16] [2, 4, 6, 8]\n"
     ]
    }
   ],
   "source": [
    "x=[4,8,12,16]\n",
    "x3=[]\n",
    "for i in x:\n",
    "    x3.append(i//2)\n",
    "print(x,x3)    "
   ]
  },
  {
   "cell_type": "code",
   "execution_count": 14,
   "id": "8fb92d12",
   "metadata": {},
   "outputs": [
    {
     "name": "stdout",
     "output_type": "stream",
     "text": [
      "[1, 2, 3]\n",
      "[4, 5, 6]\n",
      "[5, 7, 9]\n"
     ]
    }
   ],
   "source": [
    "x=[1,2,3]\n",
    "y=[4,5,6]\n",
    "xy=[]\n",
    "for i,j in zip(x,y):\n",
    "    xy.append(i+j)\n",
    "print(x,y,xy,sep='\\n')    \n"
   ]
  },
  {
   "cell_type": "code",
   "execution_count": 15,
   "id": "06e26ad3",
   "metadata": {},
   "outputs": [
    {
     "name": "stdout",
     "output_type": "stream",
     "text": [
      "[4, 9, 16]\n"
     ]
    }
   ],
   "source": [
    "z=[2,3,4,]\n",
    "zsqr=[]\n",
    "for i in z:\n",
    "    zsqr.append(i**2)\n",
    "print(zsqr)    "
   ]
  },
  {
   "cell_type": "markdown",
   "id": "0230c285",
   "metadata": {},
   "source": [
    "simple\n",
    "\n",
    "\n",
    "newlist=[opertion for loop]\n",
    "\n",
    "example: x2 =[i**2   for i in x]\n",
    "         x3 =[a**3   for a in y]\n"
   ]
  },
  {
   "cell_type": "markdown",
   "id": "6cf24525",
   "metadata": {},
   "source": [
    "condition Based\n",
    "\n",
    "newlist = opertion loop condition \n",
    "\n",
    "example:\n",
    "        xeven = [i for i in if i%2=0]\n",
    "        songs=[file for file in data if file.ends with('mp3')]"
   ]
  },
  {
   "cell_type": "markdown",
   "id": "2e41ed05",
   "metadata": {},
   "source": [
    "Mapping\n",
    "\n",
    "-> APPLY operation on data \n",
    "\n",
    "filtering \n",
    "\n",
    "->Apply filter on data "
   ]
  },
  {
   "cell_type": "code",
   "execution_count": 1,
   "id": "5295de2b",
   "metadata": {},
   "outputs": [
    {
     "name": "stdout",
     "output_type": "stream",
     "text": [
      "(1, 2, 3)\n"
     ]
    }
   ],
   "source": [
    "my_tuple = (1,2,3)\n",
    "print(my_tuple)"
   ]
  },
  {
   "cell_type": "code",
   "execution_count": 2,
   "id": "8f9b551f",
   "metadata": {},
   "outputs": [
    {
     "name": "stdout",
     "output_type": "stream",
     "text": [
      "(1, 'HELLO', 3.4)\n"
     ]
    }
   ],
   "source": [
    "my_tuple = (1, \"HELLO\",3.4)\n",
    "print(my_tuple)"
   ]
  },
  {
   "cell_type": "code",
   "execution_count": 3,
   "id": "00fa8d2d",
   "metadata": {},
   "outputs": [
    {
     "name": "stdout",
     "output_type": "stream",
     "text": [
      "('mouse', [8, 6, 6], (1, 2, 3))\n"
     ]
    }
   ],
   "source": [
    "my_tuple = (\"mouse\",[8,6,6],(1,2,3))\n",
    "print(my_tuple)"
   ]
  },
  {
   "cell_type": "code",
   "execution_count": 4,
   "id": "ef6fdd6d",
   "metadata": {},
   "outputs": [
    {
     "name": "stdout",
     "output_type": "stream",
     "text": [
      "(3, 4, 6, 'apple')\n"
     ]
    }
   ],
   "source": [
    "my_tuple = 3,4,6, \"apple\"\n",
    "print(my_tuple)"
   ]
  },
  {
   "cell_type": "code",
   "execution_count": 5,
   "id": "118d4c67",
   "metadata": {},
   "outputs": [
    {
     "name": "stdout",
     "output_type": "stream",
     "text": [
      "p\n",
      "t\n"
     ]
    }
   ],
   "source": [
    "my_tuple = ('p','e','r','m','i','t')\n",
    "\n",
    "print(my_tuple[0])\n",
    "print(my_tuple[5])"
   ]
  },
  {
   "cell_type": "code",
   "execution_count": 6,
   "id": "cee20e50",
   "metadata": {},
   "outputs": [
    {
     "name": "stdout",
     "output_type": "stream",
     "text": [
      "s\n",
      "4\n"
     ]
    }
   ],
   "source": [
    "n_tuple = (\"mouse\",[8,4,6],(1,2,3))\n",
    "\n",
    "print(n_tuple[0][3])\n",
    "print(n_tuple[1][1])"
   ]
  },
  {
   "cell_type": "code",
   "execution_count": 1,
   "id": "0195ffde",
   "metadata": {},
   "outputs": [
    {
     "name": "stdout",
     "output_type": "stream",
     "text": [
      "(1, 2, 3, 4, 5, 6)\n"
     ]
    }
   ],
   "source": [
    "print((1,2,3) + (4,5,6))"
   ]
  },
  {
   "cell_type": "code",
   "execution_count": 2,
   "id": "59f2b029",
   "metadata": {},
   "outputs": [
    {
     "name": "stdout",
     "output_type": "stream",
     "text": [
      "('repeat', 'repeat', 'repeat')\n"
     ]
    }
   ],
   "source": [
    "print((\"repeat\",) * 3)"
   ]
  },
  {
   "cell_type": "code",
   "execution_count": 5,
   "id": "bc2f3fca",
   "metadata": {},
   "outputs": [
    {
     "name": "stdout",
     "output_type": "stream",
     "text": [
      "2\n",
      "3\n"
     ]
    }
   ],
   "source": [
    "my_tuple = ('a','p','p','l','e',)\n",
    "print(my_tuple.count('p'))\n",
    "print(my_tuple.index('l'))"
   ]
  },
  {
   "cell_type": "markdown",
   "id": "14f6a87a",
   "metadata": {},
   "source": [
    "### DICTIONARY"
   ]
  },
  {
   "cell_type": "markdown",
   "id": "ba504816",
   "metadata": {},
   "source": [
    "2ways to store data python  \n",
    "    1. list -> indexed based    \n",
    "    2.  distinary -> key value pair \n"
   ]
  },
  {
   "cell_type": "markdown",
   "id": "a3fd3906",
   "metadata": {},
   "source": [
    "name = bhargav\n",
    "email = mandlabhargav6@email.com\n",
    "city = kadapa\n",
    "hometown = kadapa\n",
    "is_manager = True\n",
    "is_faculty = False\n",
    "likes_coding = yes\n",
    "lines_java = no"
   ]
  },
  {
   "cell_type": "code",
   "execution_count": 4,
   "id": "6387e5c3",
   "metadata": {},
   "outputs": [
    {
     "name": "stdout",
     "output_type": "stream",
     "text": [
      "()\n",
      "<class 'tuple'>\n",
      "{}\n",
      "<class 'dict'>\n"
     ]
    }
   ],
   "source": [
    "# creating a distionary\n",
    "d = () #empty dist\n",
    "print(d)\n",
    "print(type(d))\n",
    "\n",
    "d2 = dict() #empty dict\n",
    "print(d2)\n",
    "print(type(d2))"
   ]
  },
  {
   "cell_type": "code",
   "execution_count": 1,
   "id": "e7f8c3dc",
   "metadata": {},
   "outputs": [
    {
     "name": "stdout",
     "output_type": "stream",
     "text": [
      "{'color': 'orange', 'shape': 'circle', 'size': '2 meter', 'meterial': 'plastic'}\n"
     ]
    }
   ],
   "source": [
    "d3 = {\n",
    "    'color' : 'orange',\n",
    "    'shape' : 'circle',\n",
    "    'size' : '2 meter',\n",
    "    'meterial' : 'plastic',\n",
    "}\n",
    "print(d3)"
   ]
  },
  {
   "cell_type": "code",
   "execution_count": 5,
   "id": "ab5a93f5",
   "metadata": {},
   "outputs": [
    {
     "name": "stdout",
     "output_type": "stream",
     "text": [
      "{'fact1': 'all keys in a distonaty should be unique', 'fact2': 'key are immutable so only string and tuples are allowed as key', 'fact3': 'value of a key can be any type -> str, number, list, dict'}\n"
     ]
    }
   ],
   "source": [
    "info = {\n",
    "    'fact1' : 'all keys in a distonaty should be unique',\n",
    "    'fact2' : 'key are immutable so only string and tuples are allowed as key',\n",
    "    'fact3' : 'value of a key can be any type -> str, number, list, dict'\n",
    "}\n",
    "print(info)"
   ]
  },
  {
   "cell_type": "code",
   "execution_count": 11,
   "id": "cc6af944",
   "metadata": {},
   "outputs": [
    {
     "name": "stdout",
     "output_type": "stream",
     "text": [
      "{'name': 'mobile', 'price': 79999, 'features': {'camara': '48 mp', 'os': 18, 'ram': '8 gb'}, 'brand': 'apple', 'model': 'iphnoe 18', 'popular': True, 'value for money': False, 'color': ['ornage', 'black', 'blue', 'white']}\n"
     ]
    }
   ],
   "source": [
    "product = {\n",
    "    'name' : 'mobile',\n",
    "    'price' : 79999,\n",
    "    'features' : {'camara': '48 mp' , 'os' : 18, 'ram' : '8 gb' },\n",
    "    'brand' : 'apple',\n",
    "    'model' : 'iphnoe 18',\n",
    "    'popular'  : True,\n",
    "    'value for money' : False,\n",
    "    'color' : ['ornage', 'black', 'blue', 'white']\n",
    "}\n",
    "print(product)"
   ]
  },
  {
   "cell_type": "markdown",
   "id": "22cb5709",
   "metadata": {},
   "source": [
    "getting data from dictionary"
   ]
  },
  {
   "cell_type": "code",
   "execution_count": 13,
   "id": "bf2698ce",
   "metadata": {},
   "outputs": [
    {
     "data": {
      "text/plain": [
       "dict_values(['mobile', 79999, {'camara': '48 mp', 'os': 18, 'ram': '8 gb'}, 'apple', 'iphnoe 18', True, False, ['ornage', 'black', 'blue', 'white']])"
      ]
     },
     "execution_count": 13,
     "metadata": {},
     "output_type": "execute_result"
    }
   ],
   "source": [
    "product.values()"
   ]
  },
  {
   "cell_type": "code",
   "execution_count": 15,
   "id": "cc5989d3",
   "metadata": {},
   "outputs": [
    {
     "data": {
      "text/plain": [
       "dict_items([('name', 'mobile'), ('price', 79999), ('features', {'camara': '48 mp', 'os': 18, 'ram': '8 gb'}), ('brand', 'apple'), ('model', 'iphnoe 18'), ('popular', True), ('value for money', False), ('color', ['ornage', 'black', 'blue', 'white'])])"
      ]
     },
     "execution_count": 15,
     "metadata": {},
     "output_type": "execute_result"
    }
   ],
   "source": [
    "product.items()"
   ]
  },
  {
   "cell_type": "code",
   "execution_count": 18,
   "id": "4807c0c0",
   "metadata": {},
   "outputs": [
    {
     "data": {
      "text/plain": [
       "dict_keys(['name', 'price', 'features', 'brand', 'model', 'popular', 'value for money', 'color'])"
      ]
     },
     "execution_count": 18,
     "metadata": {},
     "output_type": "execute_result"
    }
   ],
   "source": [
    "product.keys()"
   ]
  },
  {
   "cell_type": "code",
   "execution_count": 19,
   "id": "4dc7168f",
   "metadata": {},
   "outputs": [
    {
     "name": "stdout",
     "output_type": "stream",
     "text": [
      "iphnoe 18\n",
      "{'camara': '48 mp', 'os': 18, 'ram': '8 gb'}\n",
      "79999\n",
      "None\n",
      "None\n"
     ]
    }
   ],
   "source": [
    "print(product.get('model'))\n",
    "print(product.get('features'))\n",
    "print(product.get('price'))\n",
    "print(product.get('discount'))\n",
    "print(product.get('feature'))\n",
    "\n",
    "                  \n",
    "\n",
    "\n",
    "\n"
   ]
  },
  {
   "cell_type": "code",
   "execution_count": 20,
   "id": "307fcb0f",
   "metadata": {},
   "outputs": [
    {
     "name": "stdout",
     "output_type": "stream",
     "text": [
      "{'name': 'willian shakespeare'}\n",
      "{'name': 'willian shakespeare', 'books': {'Merchat of venice', 'Julias Ceaser'}}\n",
      "{'name': 'willian shakespeare', 'books': {'Merchat of venice', 'Julias Ceaser'}, 'born': 'april 1564', 'died': 'april 1616', 'overview': 'a  enlish plaweright, poet and actor,regarded as the greatest writer in english'}\n"
     ]
    }
   ],
   "source": [
    "#adding data to dictionary\n",
    "d = {}\n",
    "d['name'] = \"willian shakespeare\"\n",
    "print(d)\n",
    "d['books'] = {'Julias Ceaser', 'Merchat of venice'}\n",
    "print(d)\n",
    "d['born'] = \"april 1564\"\n",
    "d['died'] = \"april 1616\"\n",
    "d['overview'] = '''a  enlish plaweright, poet and actor,regarded as the greatest writer in english'''\n",
    "print(d)\n",
    " "
   ]
  },
  {
   "cell_type": "code",
   "execution_count": null,
   "id": "b5d4782f",
   "metadata": {},
   "outputs": [
    {
     "name": "stdout",
     "output_type": "stream",
     "text": [
      "contact Book\n",
      "Search Contact\n",
      "💀 Contact not found\n",
      "Okay 🙂\n",
      "👋 Byeee\n"
     ]
    }
   ],
   "source": [
    "contacts = {\n",
    "    'emergency' : 108\n",
    "}\n",
    "print(\"contact Book\")\n",
    "while True:\n",
    "    print(\"Search Contact\")\n",
    "    name = input(\"Name 👉 \")\n",
    "    if name in contacts:\n",
    "        print(\"🔎 Contact  found\")\n",
    "        print(name, '🤙', contacts.get(name))\n",
    "    else:\n",
    "        print(\"💀 Contact not found\")\n",
    "        ch = input(\"Don you want to add it? Y/N : \")\n",
    "        if ch == 'Y':\n",
    "            num = input(\"Enter (name)'s number: \")\n",
    "            contacts[name] = num\n",
    "            print(\"✅ Success! contact added\")\n",
    "        else:\n",
    "            print(\"Okay 🙂\")\n",
    "    quit = input(\"Do you want to continue? Y/N\")\n",
    "    if quit != 'Y' or quit != 'y':\n",
    "        print(\"👋 Byeee\")\n",
    "        break"
   ]
  }
 ],
 "metadata": {
  "kernelspec": {
   "display_name": "Python 3",
   "language": "python",
   "name": "python3"
  },
  "language_info": {
   "codemirror_mode": {
    "name": "ipython",
    "version": 3
   },
   "file_extension": ".py",
   "mimetype": "text/x-python",
   "name": "python",
   "nbconvert_exporter": "python",
   "pygments_lexer": "ipython3",
   "version": "3.13.6"
  }
 },
 "nbformat": 4,
 "nbformat_minor": 5
}
