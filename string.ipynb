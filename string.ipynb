{
 "cells": [
  {
   "cell_type": "code",
   "execution_count": 3,
   "id": "86db1486",
   "metadata": {},
   "outputs": [
    {
     "name": "stdout",
     "output_type": "stream",
     "text": [
      "apple banana This is\n",
      " chocolate\n",
      "   cake\n"
     ]
    }
   ],
   "source": [
    "a='apple'\n",
    "b=\"banana\"\n",
    "c='''This is\n",
    " chocolate\n",
    "   cake'''\n",
    "print(a,b,c)"
   ]
  },
  {
   "cell_type": "markdown",
   "id": "7ca27313",
   "metadata": {},
   "source": [
    "typecasting"
   ]
  },
  {
   "cell_type": "code",
   "execution_count": 6,
   "id": "6c28f6a6",
   "metadata": {},
   "outputs": [
    {
     "name": "stdout",
     "output_type": "stream",
     "text": [
      "10 <class 'str'>\n",
      "['apple', 'banana'] <class 'str'>\n"
     ]
    }
   ],
   "source": [
    "x=str(10)\n",
    "y=str([\"apple\",\"banana\"])\n",
    "print(x,type(x))\n",
    "print(y,type(y))      "
   ]
  },
  {
   "cell_type": "code",
   "execution_count": 11,
   "id": "bbcd1b0e",
   "metadata": {},
   "outputs": [
    {
     "name": "stdout",
     "output_type": "stream",
     "text": [
      "the point is i am not disappointed\n"
     ]
    }
   ],
   "source": [
    "x='disappointed'\n",
    "y=x[5:10]\n",
    "print(f\"the {y} is i am not {x}\")"
   ]
  },
  {
   "cell_type": "code",
   "execution_count": 18,
   "id": "e4908a49",
   "metadata": {},
   "outputs": [
    {
     "name": "stdout",
     "output_type": "stream",
     "text": [
      "jhonny johonny ,yes papa,\n",
      " easting suger? no papa,\n",
      " telling lies? no papa,\n",
      " open your mouth! haha ha!\n"
     ]
    }
   ],
   "source": [
    "poem=\"\"\"jhonny johonny ,yes papa,\n",
    " easting suger? no papa,\n",
    " telling lies? no papa,\n",
    " open your mouth! haha ha!\"\"\"\n",
    "print(poem)"
   ]
  },
  {
   "cell_type": "code",
   "execution_count": 1,
   "id": "232959b6",
   "metadata": {},
   "outputs": [
    {
     "name": "stdout",
     "output_type": "stream",
     "text": [
      "MAINTAIN SILENCE IN LIBRARY\n"
     ]
    }
   ],
   "source": [
    "s=\"maintain silence in library\"\n",
    "supper=s.upper()\n",
    "print(supper)"
   ]
  },
  {
   "cell_type": "code",
   "execution_count": 2,
   "id": "d439c6d4",
   "metadata": {},
   "outputs": [
    {
     "name": "stdout",
     "output_type": "stream",
     "text": [
      "maintain silence in library\n"
     ]
    }
   ],
   "source": [
    "s=\"maintain silence in library\"\n",
    "supper=s.lower()\n",
    "print(supper)"
   ]
  },
  {
   "cell_type": "code",
   "execution_count": 3,
   "id": "f2506943",
   "metadata": {},
   "outputs": [
    {
     "name": "stdout",
     "output_type": "stream",
     "text": [
      "Maintain Silence In Library\n"
     ]
    }
   ],
   "source": [
    "s=\"maintain silence in library\"\n",
    "supper=s.title()\n",
    "print(supper)"
   ]
  },
  {
   "cell_type": "code",
   "execution_count": 4,
   "id": "e8b49cb7",
   "metadata": {},
   "outputs": [
    {
     "name": "stdout",
     "output_type": "stream",
     "text": [
      "MAINTAIN SILENCE IN LIBRARY\n"
     ]
    }
   ],
   "source": [
    "s=\"maintain silence in library\"\n",
    "supper=s.swapcase()\n",
    "print(supper)"
   ]
  },
  {
   "cell_type": "code",
   "execution_count": 5,
   "id": "1dd7fc48",
   "metadata": {},
   "outputs": [
    {
     "name": "stdout",
     "output_type": "stream",
     "text": [
      "maintain silence in library\n"
     ]
    }
   ],
   "source": [
    "s=\"maintain silence in library\"\n",
    "supper=s.casefold()\n",
    "print(supper)"
   ]
  },
  {
   "cell_type": "code",
   "execution_count": null,
   "id": "b9a42c39",
   "metadata": {},
   "outputs": [
    {
     "name": "stdout",
     "output_type": "stream",
     "text": [
      "Maintain silence in library\n"
     ]
    }
   ],
   "source": [
    "s=\"maintain silence in library\"\n",
    "supper=s.capitalize()\n",
    "print(s)\n",
    "print(supper)"
   ]
  },
  {
   "cell_type": "code",
   "execution_count": 8,
   "id": "6f6b08a8",
   "metadata": {},
   "outputs": [
    {
     "name": "stdout",
     "output_type": "stream",
     "text": [
      "5\n"
     ]
    }
   ],
   "source": [
    "a=\"seven\"\n",
    "size=len(a)\n",
    "print(size)"
   ]
  },
  {
   "cell_type": "code",
   "execution_count": 11,
   "id": "28e3c71d",
   "metadata": {},
   "outputs": [
    {
     "name": "stdout",
     "output_type": "stream",
     "text": [
      "seven\n",
      "seven\n"
     ]
    }
   ],
   "source": [
    "a=\"seven\"\n",
    "al=a.ljust(10)\n",
    "print(a)\n",
    "print(a)"
   ]
  },
  {
   "cell_type": "code",
   "execution_count": 13,
   "id": "87b78893",
   "metadata": {},
   "outputs": [
    {
     "name": "stdout",
     "output_type": "stream",
     "text": [
      "seven\n",
      "seven     \n",
      "seven-----\n",
      "               seven\n",
      "|||||||||||||||seven\n",
      "    seven    \n",
      "****seven****\n"
     ]
    }
   ],
   "source": [
    "a='seven'\n",
    "al=a.ljust(10)\n",
    "print(a)\n",
    "print(al)\n",
    "a2=a.ljust(10,'-')\n",
    "print(a2)\n",
    "a3=a.rjust(20)\n",
    "a4=a.rjust(20,'|')\n",
    "a5=a.center(13)\n",
    "a6=a.center(13,'*')\n",
    "print(a3,a4,a5,a6,sep='\\n')"
   ]
  },
  {
   "cell_type": "code",
   "execution_count": 14,
   "id": "f1f38c8f",
   "metadata": {},
   "outputs": [
    {
     "name": "stdout",
     "output_type": "stream",
     "text": [
      "bhargav\n"
     ]
    }
   ],
   "source": [
    "x=input()\n",
    "print(x)"
   ]
  },
  {
   "cell_type": "code",
   "execution_count": 18,
   "id": "ac851a44",
   "metadata": {},
   "outputs": [
    {
     "name": "stdout",
     "output_type": "stream",
     "text": [
      "True\n",
      "True\n",
      "False\n",
      "False\n"
     ]
    }
   ],
   "source": [
    "x=input()\n",
    "print(x.isalpha())\n",
    "print(x.isalnum())\n",
    "print(x.isdigit())\n",
    "print(x.isspace())\n",
    "\n"
   ]
  },
  {
   "cell_type": "code",
   "execution_count": 3,
   "id": "b06154ac",
   "metadata": {},
   "outputs": [
    {
     "ename": "IndentationError",
     "evalue": "unexpected indent (2225643488.py, line 2)",
     "output_type": "error",
     "traceback": [
      "  \u001b[36mCell\u001b[39m\u001b[36m \u001b[39m\u001b[32mIn[3]\u001b[39m\u001b[32m, line 2\u001b[39m\n\u001b[31m    \u001b[39m\u001b[31mprint(num)\u001b[39m\n    ^\n\u001b[31mIndentationError\u001b[39m\u001b[31m:\u001b[39m unexpected indent\n"
     ]
    }
   ],
   "source": [
    "num = 0\n",
    "  print(num)\n"
   ]
  },
  {
   "cell_type": "code",
   "execution_count": 4,
   "id": "1666bc9a",
   "metadata": {},
   "outputs": [
    {
     "name": "stdout",
     "output_type": "stream",
     "text": [
      "0\n"
     ]
    }
   ],
   "source": [
    "num = 0\n",
    "NUM = 5\n",
    "print(num)\n"
   ]
  },
  {
   "cell_type": "code",
   "execution_count": 5,
   "id": "8722f7d6",
   "metadata": {},
   "outputs": [
    {
     "ename": "NameError",
     "evalue": "name 'quantity' is not defined",
     "output_type": "error",
     "traceback": [
      "\u001b[31m---------------------------------------------------------------------------\u001b[39m",
      "\u001b[31mNameError\u001b[39m                                 Traceback (most recent call last)",
      "\u001b[36mCell\u001b[39m\u001b[36m \u001b[39m\u001b[32mIn[5]\u001b[39m\u001b[32m, line 2\u001b[39m\n\u001b[32m      1\u001b[39m \u001b[38;5;66;03m# quantity = 1\u001b[39;00m\n\u001b[32m----> \u001b[39m\u001b[32m2\u001b[39m \u001b[38;5;28mprint\u001b[39m(\u001b[43mquantity\u001b[49m)\n",
      "\u001b[31mNameError\u001b[39m: name 'quantity' is not defined"
     ]
    }
   ],
   "source": [
    "# quantity = 1\n",
    "print(quantity)"
   ]
  },
  {
   "cell_type": "code",
   "execution_count": 6,
   "id": "a11c9a58",
   "metadata": {},
   "outputs": [
    {
     "name": "stdout",
     "output_type": "stream",
     "text": [
      "10\n",
      "2\n"
     ]
    }
   ],
   "source": [
    "price = 10;\n",
    "print(price)\n",
    "price = 2\n",
    "print(price);"
   ]
  },
  {
   "cell_type": "code",
   "execution_count": 7,
   "id": "6d0087f5",
   "metadata": {},
   "outputs": [
    {
     "name": "stdout",
     "output_type": "stream",
     "text": [
      "10\n"
     ]
    }
   ],
   "source": [
    "quantity = 10\n",
    "# quantity = 1\n",
    "print(quantity)"
   ]
  }
 ],
 "metadata": {
  "kernelspec": {
   "display_name": "Python 3",
   "language": "python",
   "name": "python3"
  },
  "language_info": {
   "codemirror_mode": {
    "name": "ipython",
    "version": 3
   },
   "file_extension": ".py",
   "mimetype": "text/x-python",
   "name": "python",
   "nbconvert_exporter": "python",
   "pygments_lexer": "ipython3",
   "version": "3.13.6"
  }
 },
 "nbformat": 4,
 "nbformat_minor": 5
}
