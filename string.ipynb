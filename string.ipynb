{
 "cells": [
  {
   "cell_type": "code",
   "execution_count": 3,
   "id": "86db1486",
   "metadata": {},
   "outputs": [
    {
     "name": "stdout",
     "output_type": "stream",
     "text": [
      "apple banana This is\n",
      " chocolate\n",
      "   cake\n"
     ]
    }
   ],
   "source": [
    "a='apple'\n",
    "b=\"banana\"\n",
    "c='''This is\n",
    " chocolate\n",
    "   cake'''\n",
    "print(a,b,c)"
   ]
  },
  {
   "cell_type": "markdown",
   "id": "7ca27313",
   "metadata": {},
   "source": [
    "typecasting"
   ]
  },
  {
   "cell_type": "code",
   "execution_count": 6,
   "id": "6c28f6a6",
   "metadata": {},
   "outputs": [
    {
     "name": "stdout",
     "output_type": "stream",
     "text": [
      "10 <class 'str'>\n",
      "['apple', 'banana'] <class 'str'>\n"
     ]
    }
   ],
   "source": [
    "x=str(10)\n",
    "y=str([\"apple\",\"banana\"])\n",
    "print(x,type(x))\n",
    "print(y,type(y))      "
   ]
  },
  {
   "cell_type": "code",
   "execution_count": 11,
   "id": "bbcd1b0e",
   "metadata": {},
   "outputs": [
    {
     "name": "stdout",
     "output_type": "stream",
     "text": [
      "the point is i am not disappointed\n"
     ]
    }
   ],
   "source": [
    "x='disappointed'\n",
    "y=x[5:10]\n",
    "print(f\"the {y} is i am not {x}\")"
   ]
  },
  {
   "cell_type": "code",
   "execution_count": 18,
   "id": "e4908a49",
   "metadata": {},
   "outputs": [
    {
     "name": "stdout",
     "output_type": "stream",
     "text": [
      "jhonny johonny ,yes papa,\n",
      " easting suger? no papa,\n",
      " telling lies? no papa,\n",
      " open your mouth! haha ha!\n"
     ]
    }
   ],
   "source": [
    "poem=\"\"\"jhonny johonny ,yes papa,\n",
    " easting suger? no papa,\n",
    " telling lies? no papa,\n",
    " open your mouth! haha ha!\"\"\"\n",
    "print(poem)"
   ]
  },
  {
   "cell_type": "code",
   "execution_count": 1,
   "id": "232959b6",
   "metadata": {},
   "outputs": [
    {
     "name": "stdout",
     "output_type": "stream",
     "text": [
      "MAINTAIN SILENCE IN LIBRARY\n"
     ]
    }
   ],
   "source": [
    "s=\"maintain silence in library\"\n",
    "supper=s.upper()\n",
    "print(supper)"
   ]
  },
  {
   "cell_type": "code",
   "execution_count": 2,
   "id": "d439c6d4",
   "metadata": {},
   "outputs": [
    {
     "name": "stdout",
     "output_type": "stream",
     "text": [
      "maintain silence in library\n"
     ]
    }
   ],
   "source": [
    "s=\"maintain silence in library\"\n",
    "supper=s.lower()\n",
    "print(supper)"
   ]
  },
  {
   "cell_type": "code",
   "execution_count": 3,
   "id": "f2506943",
   "metadata": {},
   "outputs": [
    {
     "name": "stdout",
     "output_type": "stream",
     "text": [
      "Maintain Silence In Library\n"
     ]
    }
   ],
   "source": [
    "s=\"maintain silence in library\"\n",
    "supper=s.title()\n",
    "print(supper)"
   ]
  },
  {
   "cell_type": "code",
   "execution_count": 4,
   "id": "e8b49cb7",
   "metadata": {},
   "outputs": [
    {
     "name": "stdout",
     "output_type": "stream",
     "text": [
      "MAINTAIN SILENCE IN LIBRARY\n"
     ]
    }
   ],
   "source": [
    "s=\"maintain silence in library\"\n",
    "supper=s.swapcase()\n",
    "print(supper)"
   ]
  },
  {
   "cell_type": "code",
   "execution_count": 5,
   "id": "1dd7fc48",
   "metadata": {},
   "outputs": [
    {
     "name": "stdout",
     "output_type": "stream",
     "text": [
      "maintain silence in library\n"
     ]
    }
   ],
   "source": [
    "s=\"maintain silence in library\"\n",
    "supper=s.casefold()\n",
    "print(supper)"
   ]
  },
  {
   "cell_type": "code",
   "execution_count": null,
   "id": "b9a42c39",
   "metadata": {},
   "outputs": [
    {
     "name": "stdout",
     "output_type": "stream",
     "text": [
      "Maintain silence in library\n"
     ]
    }
   ],
   "source": [
    "s=\"maintain silence in library\"\n",
    "supper=s.capitalize()\n",
    "print(s)\n",
    "print(supper)"
   ]
  },
  {
   "cell_type": "code",
   "execution_count": 8,
   "id": "6f6b08a8",
   "metadata": {},
   "outputs": [
    {
     "name": "stdout",
     "output_type": "stream",
     "text": [
      "5\n"
     ]
    }
   ],
   "source": [
    "a=\"seven\"\n",
    "size=len(a)\n",
    "print(size)"
   ]
  },
  {
   "cell_type": "code",
   "execution_count": 11,
   "id": "28e3c71d",
   "metadata": {},
   "outputs": [
    {
     "name": "stdout",
     "output_type": "stream",
     "text": [
      "seven\n",
      "seven\n"
     ]
    }
   ],
   "source": [
    "a=\"seven\"\n",
    "al=a.ljust(10)\n",
    "print(a)\n",
    "print(a)"
   ]
  },
  {
   "cell_type": "code",
   "execution_count": 13,
   "id": "87b78893",
   "metadata": {},
   "outputs": [
    {
     "name": "stdout",
     "output_type": "stream",
     "text": [
      "seven\n",
      "seven     \n",
      "seven-----\n",
      "               seven\n",
      "|||||||||||||||seven\n",
      "    seven    \n",
      "****seven****\n"
     ]
    }
   ],
   "source": [
    "a='seven'\n",
    "al=a.ljust(10)\n",
    "print(a)\n",
    "print(al)\n",
    "a2=a.ljust(10,'-')\n",
    "print(a2)\n",
    "a3=a.rjust(20)\n",
    "a4=a.rjust(20,'|')\n",
    "a5=a.center(13)\n",
    "a6=a.center(13,'*')\n",
    "print(a3,a4,a5,a6,sep='\\n')"
   ]
  },
  {
   "cell_type": "code",
   "execution_count": 14,
   "id": "f1f38c8f",
   "metadata": {},
   "outputs": [
    {
     "name": "stdout",
     "output_type": "stream",
     "text": [
      "bhargav\n"
     ]
    }
   ],
   "source": [
    "x=input()\n",
    "print(x)"
   ]
  },
  {
   "cell_type": "code",
   "execution_count": 18,
   "id": "ac851a44",
   "metadata": {},
   "outputs": [
    {
     "name": "stdout",
     "output_type": "stream",
     "text": [
      "True\n",
      "True\n",
      "False\n",
      "False\n"
     ]
    }
   ],
   "source": [
    "x=input()\n",
    "print(x.isalpha())\n",
    "print(x.isalnum())\n",
    "print(x.isdigit())\n",
    "print(x.isspace())\n",
    "\n"
   ]
  },
  {
   "cell_type": "code",
   "execution_count": 1,
   "id": "b06154ac",
   "metadata": {},
   "outputs": [
    {
     "name": "stdout",
     "output_type": "stream",
     "text": [
      "0\n"
     ]
    }
   ],
   "source": [
    "num = 0\n",
    "print(num)\n"
   ]
  },
  {
   "cell_type": "code",
   "execution_count": 4,
   "id": "1666bc9a",
   "metadata": {},
   "outputs": [
    {
     "name": "stdout",
     "output_type": "stream",
     "text": [
      "0\n"
     ]
    }
   ],
   "source": [
    "num = 0\n",
    "NUM = 5\n",
    "print(num)\n"
   ]
  },
  {
   "cell_type": "code",
   "execution_count": 6,
   "id": "a11c9a58",
   "metadata": {},
   "outputs": [
    {
     "name": "stdout",
     "output_type": "stream",
     "text": [
      "10\n",
      "2\n"
     ]
    }
   ],
   "source": [
    "price = 10;\n",
    "print(price)\n",
    "price = 2\n",
    "print(price);"
   ]
  },
  {
   "cell_type": "code",
   "execution_count": 7,
   "id": "6d0087f5",
   "metadata": {},
   "outputs": [
    {
     "name": "stdout",
     "output_type": "stream",
     "text": [
      "10\n"
     ]
    }
   ],
   "source": [
    "quantity = 10\n",
    "# quantity = 1\n",
    "print(quantity)"
   ]
  },
  {
   "cell_type": "markdown",
   "id": "9508a311",
   "metadata": {},
   "source": [
    "string utility method"
   ]
  },
  {
   "cell_type": "markdown",
   "id": "4d8eb15e",
   "metadata": {},
   "source": [
    "replace"
   ]
  },
  {
   "cell_type": "code",
   "execution_count": 3,
   "id": "3a6bb33e",
   "metadata": {},
   "outputs": [
    {
     "name": "stdout",
     "output_type": "stream",
     "text": [
      "once upon a time twice upon a time\n",
      "onci upon a timi\n"
     ]
    }
   ],
   "source": [
    "s = \"once upon a time\"\n",
    "s2 = s.replace ('once','twice')\n",
    "print(s,s2)\n",
    "s3 = s.replace('e','i')\n",
    "print(s3)"
   ]
  },
  {
   "cell_type": "code",
   "execution_count": 4,
   "id": "4b9863d5",
   "metadata": {},
   "outputs": [
    {
     "name": "stdout",
     "output_type": "stream",
     "text": [
      "py#t#h#o#n\n",
      "python\n"
     ]
    }
   ],
   "source": [
    "# replace for removing content\n",
    "\n",
    "data = 'py#t#h#o#n'\n",
    "cleaned_data = data.replace('#','')\n",
    "print (data,cleaned_data,sep='\\n')\n",
    "    "
   ]
  },
  {
   "cell_type": "markdown",
   "id": "4962c161",
   "metadata": {},
   "source": [
    "Find/index"
   ]
  },
  {
   "cell_type": "code",
   "execution_count": 7,
   "id": "7a958e47",
   "metadata": {},
   "outputs": [
    {
     "name": "stdout",
     "output_type": "stream",
     "text": [
      "7\n",
      "-1\n",
      "2\n",
      "3\n",
      "13\n"
     ]
    }
   ],
   "source": [
    "m = \"Alpine mountain range\"\n",
    "print(m.find('mountain'))\n",
    "print(m.find('lion'))        # output : -1\n",
    "print(m.find('pine'))        # output : 2\n",
    "print(m.find('i'))\n",
    "print(m.find('i',4))"
   ]
  },
  {
   "cell_type": "markdown",
   "id": "b4a7ec78",
   "metadata": {},
   "source": [
    "split & join"
   ]
  },
  {
   "cell_type": "code",
   "execution_count": 10,
   "id": "ad229d66",
   "metadata": {},
   "outputs": [
    {
     "name": "stdout",
     "output_type": "stream",
     "text": [
      "['life', 'before', 'death,', 'courang', 'before', 'desport', 'journey', 'before', 'destination']\n"
     ]
    }
   ],
   "source": [
    "quote='''life before death,\n",
    "         courang before desport\n",
    "         journey before destination'''\n",
    "print(quote.split())\n"
   ]
  },
  {
   "cell_type": "code",
   "execution_count": 3,
   "id": "63c562bf",
   "metadata": {},
   "outputs": [
    {
     "name": "stdout",
     "output_type": "stream",
     "text": [
      "['MBU', 'sree sainath nagar', 'tirupati', 'AP', '517102']\n",
      "MBU,sree sainath nagar,tirupati,AP,517102\n",
      "MBU_sree sainath nagar_tirupati_AP_517102\n",
      "MBU\n",
      "sree sainath nagar\n",
      "tirupati\n",
      "AP\n",
      "517102\n",
      "MBUwhatsree sainath nagarwhattirupatiwhatAPwhat517102\n"
     ]
    }
   ],
   "source": [
    "adder = ['MBU','sree sainath nagar','tirupati','AP','517102']\n",
    "addr_str = \",\".join(adder)\n",
    "print(adder,addr_str,sep='\\n')\n",
    "addr2 = '_'.join(adder)\n",
    "addr3 = '\\n'.join(adder)\n",
    "addr4 = 'what'.join(adder)\n",
    "print(addr2,addr3,addr4,sep='\\n')"
   ]
  },
  {
   "cell_type": "markdown",
   "id": "94122f99",
   "metadata": {},
   "source": [
    "## Functions\n",
    "## AND\n",
    "## Modules"
   ]
  },
  {
   "cell_type": "code",
   "execution_count": 3,
   "id": "2774efd5",
   "metadata": {},
   "outputs": [
    {
     "name": "stdout",
     "output_type": "stream",
     "text": [
      "even\n"
     ]
    }
   ],
   "source": [
    "n = input(\"enter value\")\n",
    "if int(n)%2==0:\n",
    "    print(\"even\")\n",
    "else:\n",
    "    print(\"odd\")   "
   ]
  }
 ],
 "metadata": {
  "kernelspec": {
   "display_name": "Python 3",
   "language": "python",
   "name": "python3"
  },
  "language_info": {
   "codemirror_mode": {
    "name": "ipython",
    "version": 3
   },
   "file_extension": ".py",
   "mimetype": "text/x-python",
   "name": "python",
   "nbconvert_exporter": "python",
   "pygments_lexer": "ipython3",
   "version": "3.13.6"
  }
 },
 "nbformat": 4,
 "nbformat_minor": 5
}
