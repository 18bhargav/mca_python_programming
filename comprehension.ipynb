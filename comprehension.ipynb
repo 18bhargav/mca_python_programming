{
 "cells": [
  {
   "cell_type": "code",
   "execution_count": 1,
   "id": "3d38c35c",
   "metadata": {},
   "outputs": [],
   "source": [
    "movies=['pushpa','kannappa','jinna','d','little heart','court','lucky beasker','thammudu',\n",
    "        'santhosam','kallisudam ra','baby','remo','orange','rx100','arjun reddy','mangalavaram',]"
   ]
  },
  {
   "cell_type": "code",
   "execution_count": 6,
   "id": "a5b1c9b7",
   "metadata": {},
   "outputs": [
    {
     "name": "stdout",
     "output_type": "stream",
     "text": [
      "['pushpa', 'kannappa', 'jinna', 'd', 'little heart', 'court', 'lucky beasker', 'thammudu', 'santhosam', 'kallisudam ra', 'baby', 'remo', 'orange', 'rx100', 'arjun reddy', 'mangalavaram']\n",
      "[6, 8, 5, 1, 12, 5, 13, 8, 9, 13, 4, 4, 6, 5, 11, 12]\n"
     ]
    }
   ],
   "source": [
    "movieslen=[]\n",
    "for movie in movies:\n",
    "    size =len(movie)\n",
    "    movieslen.append(size)\n",
    "print(movies)\n",
    "print(movieslen)"
   ]
  },
  {
   "cell_type": "code",
   "execution_count": 8,
   "id": "d7a27fba",
   "metadata": {},
   "outputs": [
    {
     "name": "stdout",
     "output_type": "stream",
     "text": [
      "['pushpa', 'kannappa', 'jinna', 'd', 'little heart', 'court', 'lucky beasker', 'thammudu', 'santhosam', 'kallisudam ra', 'baby', 'remo', 'orange', 'rx100', 'arjun reddy', 'mangalavaram']\n",
      "[6, 8, 5, 1, 12, 5, 13, 8, 9, 13, 4, 4, 6, 5, 11, 12]\n"
     ]
    }
   ],
   "source": [
    "movielen=[len(movie) for movie in movies]\n",
    "print(movies)\n",
    "print(movieslen)"
   ]
  },
  {
   "cell_type": "code",
   "execution_count": 2,
   "id": "426134db",
   "metadata": {},
   "outputs": [
    {
     "data": {
      "text/plain": [
       "['pushpa',\n",
       " 'kannappa',\n",
       " 'jinna',\n",
       " 'd',\n",
       " 'little heart',\n",
       " 'court',\n",
       " 'lucky beasker',\n",
       " 'thammudu',\n",
       " 'santhosam',\n",
       " 'kallisudam ra',\n",
       " 'baby',\n",
       " 'remo',\n",
       " 'orange',\n",
       " 'rx100',\n",
       " 'arjun reddy',\n",
       " 'mangalavaram']"
      ]
     },
     "execution_count": 2,
     "metadata": {},
     "output_type": "execute_result"
    }
   ],
   "source": [
    "movies =['pushpa', 'kannappa', 'jinna', 'd', 'little heart', 'court', \n",
    "         'lucky beasker', 'thammudu', 'santhosam', 'kallisudam ra', 'baby', 'remo', 'orange',\n",
    "           'rx100', 'arjun reddy', 'mangalavaram']\n",
    "movies"
   ]
  },
  {
   "cell_type": "code",
   "execution_count": 7,
   "id": "a364e15a",
   "metadata": {},
   "outputs": [
    {
     "name": "stdout",
     "output_type": "stream",
     "text": [
      "['pushpa', 'kannappa', 'jinna', 'd', 'little heart', 'court', 'lucky beasker', 'thammudu', 'santhosam', 'kallisudam ra', 'baby', 'remo', 'orange', 'rx100', 'arjun reddy', 'mangalavaram']\n",
      "['PUSHPA', 'KANNAPPA', 'JINNA', 'D', 'LITTLE HEART', 'COURT', 'LUCKY BEASKER', 'THAMMUDU', 'SANTHOSAM', 'KALLISUDAM RA', 'BABY', 'REMO', 'ORANGE', 'RX100', 'ARJUN REDDY', 'MANGALAVARAM']\n"
     ]
    }
   ],
   "source": [
    "movies_caps = []\n",
    "for movie in movies:\n",
    "    name = movie.upper()\n",
    "    movies_caps.append(name)\n",
    "print(movies)\n",
    "print(movies_caps)"
   ]
  },
  {
   "cell_type": "code",
   "execution_count": 5,
   "id": "c0851f43",
   "metadata": {},
   "outputs": [
    {
     "name": "stdout",
     "output_type": "stream",
     "text": [
      "['pushpa', 'kannappa', 'jinna', 'd', 'little heart', 'court', 'lucky beasker', 'thammudu', 'santhosam', 'kallisudam ra', 'baby', 'remo', 'orange', 'rx100', 'arjun reddy', 'mangalavaram']\n",
      "['PUSHPA', 'KANNAPPA', 'JINNA', 'D', 'LITTLE HEART', 'COURT', 'LUCKY BEASKER', 'THAMMUDU', 'SANTHOSAM', 'KALLISUDAM RA', 'BABY', 'REMO', 'ORANGE', 'RX100', 'ARJUN REDDY', 'MANGALAVARAM']\n"
     ]
    }
   ],
   "source": [
    "movies_caps=[movie.upper() for movie in movies]\n",
    "print(movies)\n",
    "print(movies_caps)"
   ]
  },
  {
   "cell_type": "code",
   "execution_count": 8,
   "id": "bdefcb24",
   "metadata": {},
   "outputs": [
    {
     "name": "stdout",
     "output_type": "stream",
     "text": [
      "['pushpa', 'kannappa', 'jinna', 'd', 'little heart', 'court', 'lucky beasker', 'thammudu', 'santhosam', 'kallisudam ra', 'baby', 'remo', 'orange', 'rx100', 'arjun reddy', 'mangalavaram']\n",
      "['court', 'santhosam', 'remo', 'orange']\n"
     ]
    }
   ],
   "source": [
    "movies_with_o = []\n",
    "for item in movies:\n",
    "    if\"o\" in item or 'o' in item:\n",
    "        movies_with_o.append(item)\n",
    "print(movies)\n",
    "print(movies_with_o)"
   ]
  },
  {
   "cell_type": "code",
   "execution_count": 9,
   "id": "a3231f79",
   "metadata": {},
   "outputs": [],
   "source": [
    "movies_with_e = (nm for nm in movies if 'o'in nm or 'o'in nm)"
   ]
  }
 ],
 "metadata": {
  "kernelspec": {
   "display_name": "Python 3",
   "language": "python",
   "name": "python3"
  },
  "language_info": {
   "codemirror_mode": {
    "name": "ipython",
    "version": 3
   },
   "file_extension": ".py",
   "mimetype": "text/x-python",
   "name": "python",
   "nbconvert_exporter": "python",
   "pygments_lexer": "ipython3",
   "version": "3.13.6"
  }
 },
 "nbformat": 4,
 "nbformat_minor": 5
}
